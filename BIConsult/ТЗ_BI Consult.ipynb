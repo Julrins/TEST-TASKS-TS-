{
 "cells": [
  {
   "cell_type": "markdown",
   "metadata": {},
   "source": [
    "# ТЗ BI Consult\n",
    "## Выполнил кандидат Тутов Артем\n",
    "## на позицию Data Engineer\n",
    "## резюме: (https://spb.hh.ru/resume/7ecc5374ff08b1cf280039ed1f6a36506d3534)"
   ]
  },
  {
   "cell_type": "code",
   "execution_count": 1,
   "metadata": {},
   "outputs": [
    {
     "data": {
      "text/html": [
       "<pre style=\"white-space:pre;overflow-x:auto;line-height:normal;font-family:Menlo,'DejaVu Sans Mono',consolas,'Courier New',monospace\"><span style=\"color: #808000; text-decoration-color: #808000; font-weight: bold\">/opt/tljh/user/lib/python3.7/site-packages/ipykernel_launcher.py:</span><span style=\"color: #808000; text-decoration-color: #808000; font-weight: bold\">5</span><span style=\"color: #808000; text-decoration-color: #808000; font-weight: bold\"> DeprecationWarning</span><span style=\"color: #808000; text-decoration-color: #808000\">: This module is deprecated. Please use `airflow.operators.python`.</span>\n",
       "</pre>\n"
      ],
      "text/plain": [
       "\u001b[1;33m/opt/tljh/user/lib/python3.7/site-packages/\u001b[0m\u001b[1;33mipykernel_launcher.py\u001b[0m\u001b[1;33m:\u001b[0m\u001b[1;33m5\u001b[0m\u001b[1;33m DeprecationWarning\u001b[0m\u001b[33m: This module is deprecated. Please use `airflow.operators.python`.\u001b[0m\n"
      ]
     },
     "metadata": {},
     "output_type": "display_data"
    }
   ],
   "source": [
    "import requests\n",
    "import pandas as pd\n",
    "from datetime import datetime, timedelta\n",
    "from airflow import DAG\n",
    "from airflow.operators.python_operator import PythonOperator\n",
    "import pandas as pd\n",
    "import psycopg2\n",
    "from airflow.models import Variable"
   ]
  },
  {
   "cell_type": "markdown",
   "metadata": {},
   "source": [
    "# РАБОТА С ДАННЫМИ УЧЕБНЫХ ЗАВЕДЕНИЙ\n",
    "(https://github.com/Hipo/university-domains-list-api)"
   ]
  },
  {
   "cell_type": "code",
   "execution_count": 2,
   "metadata": {},
   "outputs": [],
   "source": [
    "# функция делает гет-запрос на url и возвращает жсон-ответ\n",
    "def search_universities_by_name(name):\n",
    "    url = f\"http://universities.hipolabs.com/search?name={name}\"\n",
    "    response = requests.get(url)\n",
    "    return response.json()\n",
    "\n",
    "# функция делает гет-запрос на url и возвращает жсон-ответ\n",
    "def search_universities_by_name_and_country(name, country):\n",
    "    url = f\"http://universities.hipolabs.com/search?name={name}&country={country}\"\n",
    "    response = requests.get(url)\n",
    "    return response.json()\n",
    "\n",
    "universities = search_universities_by_name(\"middle\")\n",
    "\n",
    "edu_est = pd.DataFrame(universities)\n",
    "# для удобвства\n",
    "edu_est.rename(columns = {'state-province'  : 'state_province'}, inplace = True)"
   ]
  },
  {
   "cell_type": "code",
   "execution_count": 3,
   "metadata": {},
   "outputs": [
    {
     "data": {
      "text/html": [
       "<div>\n",
       "<style scoped>\n",
       "    .dataframe tbody tr th:only-of-type {\n",
       "        vertical-align: middle;\n",
       "    }\n",
       "\n",
       "    .dataframe tbody tr th {\n",
       "        vertical-align: top;\n",
       "    }\n",
       "\n",
       "    .dataframe thead th {\n",
       "        text-align: right;\n",
       "    }\n",
       "</style>\n",
       "<table border=\"1\" class=\"dataframe\">\n",
       "  <thead>\n",
       "    <tr style=\"text-align: right;\">\n",
       "      <th></th>\n",
       "      <th>alpha_two_code</th>\n",
       "      <th>name</th>\n",
       "      <th>country</th>\n",
       "      <th>domains</th>\n",
       "      <th>web_pages</th>\n",
       "      <th>state_province</th>\n",
       "    </tr>\n",
       "  </thead>\n",
       "  <tbody>\n",
       "    <tr>\n",
       "      <th>0</th>\n",
       "      <td>TR</td>\n",
       "      <td>Middle East Technical University</td>\n",
       "      <td>Turkey</td>\n",
       "      <td>[metu.edu.tr]</td>\n",
       "      <td>[http://www.metu.edu.tr/]</td>\n",
       "      <td>None</td>\n",
       "    </tr>\n",
       "    <tr>\n",
       "      <th>1</th>\n",
       "      <td>JO</td>\n",
       "      <td>Middle East University</td>\n",
       "      <td>Jordan</td>\n",
       "      <td>[meu.edu.jo]</td>\n",
       "      <td>[http://www.meu.edu.jo/]</td>\n",
       "      <td>None</td>\n",
       "    </tr>\n",
       "    <tr>\n",
       "      <th>2</th>\n",
       "      <td>US</td>\n",
       "      <td>Middle Tennessee State University</td>\n",
       "      <td>United States</td>\n",
       "      <td>[mtsu.edu]</td>\n",
       "      <td>[http://www.mtsu.edu/]</td>\n",
       "      <td>None</td>\n",
       "    </tr>\n",
       "    <tr>\n",
       "      <th>3</th>\n",
       "      <td>US</td>\n",
       "      <td>Middle Georgia State College</td>\n",
       "      <td>United States</td>\n",
       "      <td>[mga.edu]</td>\n",
       "      <td>[http://www.mga.edu/]</td>\n",
       "      <td>None</td>\n",
       "    </tr>\n",
       "    <tr>\n",
       "      <th>4</th>\n",
       "      <td>KW</td>\n",
       "      <td>American University of Middle East</td>\n",
       "      <td>Kuwait</td>\n",
       "      <td>[aum.edu.kw]</td>\n",
       "      <td>[http://www.aum.edu.kw/]</td>\n",
       "      <td>None</td>\n",
       "    </tr>\n",
       "    <tr>\n",
       "      <th>5</th>\n",
       "      <td>US</td>\n",
       "      <td>Middlebury College</td>\n",
       "      <td>United States</td>\n",
       "      <td>[middlebury.edu]</td>\n",
       "      <td>[http://www.middlebury.edu/]</td>\n",
       "      <td>None</td>\n",
       "    </tr>\n",
       "    <tr>\n",
       "      <th>6</th>\n",
       "      <td>GB</td>\n",
       "      <td>Middlesbrough College</td>\n",
       "      <td>United Kingdom</td>\n",
       "      <td>[middlesbro.ac.uk, mbro.ac.uk]</td>\n",
       "      <td>[https://www.mbro.ac.uk/]</td>\n",
       "      <td>None</td>\n",
       "    </tr>\n",
       "    <tr>\n",
       "      <th>7</th>\n",
       "      <td>GB</td>\n",
       "      <td>Middlesex University - London</td>\n",
       "      <td>United Kingdom</td>\n",
       "      <td>[mdx.ac.uk]</td>\n",
       "      <td>[https://www.mdx.ac.uk/]</td>\n",
       "      <td>None</td>\n",
       "    </tr>\n",
       "    <tr>\n",
       "      <th>8</th>\n",
       "      <td>US</td>\n",
       "      <td>Middlesex County College</td>\n",
       "      <td>United States</td>\n",
       "      <td>[middlesexcc.edu]</td>\n",
       "      <td>[http://www.middlesexcc.edu]</td>\n",
       "      <td>None</td>\n",
       "    </tr>\n",
       "    <tr>\n",
       "      <th>9</th>\n",
       "      <td>US</td>\n",
       "      <td>Middlesex Community College</td>\n",
       "      <td>United States</td>\n",
       "      <td>[middlesex.mass.edu]</td>\n",
       "      <td>[http://www.middlesex.mass.edu]</td>\n",
       "      <td>None</td>\n",
       "    </tr>\n",
       "  </tbody>\n",
       "</table>\n",
       "</div>"
      ],
      "text/plain": [
       "  alpha_two_code                                name         country  \\\n",
       "0             TR    Middle East Technical University          Turkey   \n",
       "1             JO              Middle East University          Jordan   \n",
       "2             US   Middle Tennessee State University   United States   \n",
       "3             US        Middle Georgia State College   United States   \n",
       "4             KW  American University of Middle East          Kuwait   \n",
       "5             US                  Middlebury College   United States   \n",
       "6             GB               Middlesbrough College  United Kingdom   \n",
       "7             GB       Middlesex University - London  United Kingdom   \n",
       "8             US            Middlesex County College   United States   \n",
       "9             US         Middlesex Community College   United States   \n",
       "\n",
       "                          domains                        web_pages  \\\n",
       "0                   [metu.edu.tr]        [http://www.metu.edu.tr/]   \n",
       "1                    [meu.edu.jo]         [http://www.meu.edu.jo/]   \n",
       "2                      [mtsu.edu]           [http://www.mtsu.edu/]   \n",
       "3                       [mga.edu]            [http://www.mga.edu/]   \n",
       "4                    [aum.edu.kw]         [http://www.aum.edu.kw/]   \n",
       "5                [middlebury.edu]     [http://www.middlebury.edu/]   \n",
       "6  [middlesbro.ac.uk, mbro.ac.uk]        [https://www.mbro.ac.uk/]   \n",
       "7                     [mdx.ac.uk]         [https://www.mdx.ac.uk/]   \n",
       "8               [middlesexcc.edu]     [http://www.middlesexcc.edu]   \n",
       "9            [middlesex.mass.edu]  [http://www.middlesex.mass.edu]   \n",
       "\n",
       "  state_province  \n",
       "0           None  \n",
       "1           None  \n",
       "2           None  \n",
       "3           None  \n",
       "4           None  \n",
       "5           None  \n",
       "6           None  \n",
       "7           None  \n",
       "8           None  \n",
       "9           None  "
      ]
     },
     "execution_count": 3,
     "metadata": {},
     "output_type": "execute_result"
    }
   ],
   "source": [
    "edu_est"
   ]
  },
  {
   "cell_type": "code",
   "execution_count": 4,
   "metadata": {},
   "outputs": [
    {
     "data": {
      "text/plain": [
       "alpha_two_code    object\n",
       "name              object\n",
       "country           object\n",
       "domains           object\n",
       "web_pages         object\n",
       "state_province    object\n",
       "dtype: object"
      ]
     },
     "execution_count": 4,
     "metadata": {},
     "output_type": "execute_result"
    }
   ],
   "source": [
    "edu_est.dtypes"
   ]
  },
  {
   "cell_type": "code",
   "execution_count": 5,
   "metadata": {},
   "outputs": [
    {
     "name": "stdout",
     "output_type": "stream",
     "text": [
      "<class 'pandas.core.frame.DataFrame'>\n",
      "RangeIndex: 10 entries, 0 to 9\n",
      "Data columns (total 6 columns):\n",
      " #   Column          Non-Null Count  Dtype \n",
      "---  ------          --------------  ----- \n",
      " 0   alpha_two_code  10 non-null     object\n",
      " 1   name            10 non-null     object\n",
      " 2   country         10 non-null     object\n",
      " 3   domains         10 non-null     object\n",
      " 4   web_pages       10 non-null     object\n",
      " 5   state_province  0 non-null      object\n",
      "dtypes: object(6)\n",
      "memory usage: 608.0+ bytes\n"
     ]
    }
   ],
   "source": [
    "edu_est.info()"
   ]
  },
  {
   "cell_type": "code",
   "execution_count": 6,
   "metadata": {},
   "outputs": [
    {
     "name": "stdout",
     "output_type": "stream",
     "text": [
      "Middle East Technical University\n",
      "Middle East University\n",
      "Middle Tennessee State University\n",
      "Middle Georgia State College\n",
      "American University of Middle East\n",
      "Middlebury College\n",
      "Middlesbrough College\n",
      "Middlesex University - London\n",
      "Middlesex County College\n",
      "Middlesex Community College\n"
     ]
    }
   ],
   "source": [
    "for i in edu_est['name'].unique():\n",
    "    print(i)"
   ]
  },
  {
   "cell_type": "markdown",
   "metadata": {},
   "source": [
    "# ОБРАБОТКА ПОЛУЧЕННОГО ДАТАФРЕЙМА"
   ]
  },
  {
   "cell_type": "code",
   "execution_count": 7,
   "metadata": {},
   "outputs": [],
   "source": [
    "# функция определения типа учебного заведения\n",
    "## осуществляется проверка на наличие ключевых слов в столбце name\n",
    "def determine_institution_type(name):\n",
    "    if 'College' in name:\n",
    "        return 'College'\n",
    "    elif 'University' in name:\n",
    "        return 'University'\n",
    "    elif 'Institute' in name:\n",
    "        return 'Institute'\n",
    "    else:\n",
    "        return 'No Institution Type'\n",
    "    \n",
    "# создаем столбец с типом уч.завед. с применением функции\n",
    "edu_est['Institution_Type'] = edu_est['name'].apply(determine_institution_type)\n",
    "edu_est = edu_est.drop(['web_pages', 'domains'], axis=1) # дроп столбцов по условию тз"
   ]
  },
  {
   "cell_type": "code",
   "execution_count": 8,
   "metadata": {},
   "outputs": [
    {
     "data": {
      "text/html": [
       "<div>\n",
       "<style scoped>\n",
       "    .dataframe tbody tr th:only-of-type {\n",
       "        vertical-align: middle;\n",
       "    }\n",
       "\n",
       "    .dataframe tbody tr th {\n",
       "        vertical-align: top;\n",
       "    }\n",
       "\n",
       "    .dataframe thead th {\n",
       "        text-align: right;\n",
       "    }\n",
       "</style>\n",
       "<table border=\"1\" class=\"dataframe\">\n",
       "  <thead>\n",
       "    <tr style=\"text-align: right;\">\n",
       "      <th></th>\n",
       "      <th>alpha_two_code</th>\n",
       "      <th>name</th>\n",
       "      <th>country</th>\n",
       "      <th>state_province</th>\n",
       "      <th>Institution_Type</th>\n",
       "    </tr>\n",
       "  </thead>\n",
       "  <tbody>\n",
       "    <tr>\n",
       "      <th>0</th>\n",
       "      <td>TR</td>\n",
       "      <td>Middle East Technical University</td>\n",
       "      <td>Turkey</td>\n",
       "      <td>None</td>\n",
       "      <td>University</td>\n",
       "    </tr>\n",
       "    <tr>\n",
       "      <th>1</th>\n",
       "      <td>JO</td>\n",
       "      <td>Middle East University</td>\n",
       "      <td>Jordan</td>\n",
       "      <td>None</td>\n",
       "      <td>University</td>\n",
       "    </tr>\n",
       "    <tr>\n",
       "      <th>2</th>\n",
       "      <td>US</td>\n",
       "      <td>Middle Tennessee State University</td>\n",
       "      <td>United States</td>\n",
       "      <td>None</td>\n",
       "      <td>University</td>\n",
       "    </tr>\n",
       "    <tr>\n",
       "      <th>3</th>\n",
       "      <td>US</td>\n",
       "      <td>Middle Georgia State College</td>\n",
       "      <td>United States</td>\n",
       "      <td>None</td>\n",
       "      <td>College</td>\n",
       "    </tr>\n",
       "    <tr>\n",
       "      <th>4</th>\n",
       "      <td>KW</td>\n",
       "      <td>American University of Middle East</td>\n",
       "      <td>Kuwait</td>\n",
       "      <td>None</td>\n",
       "      <td>University</td>\n",
       "    </tr>\n",
       "    <tr>\n",
       "      <th>5</th>\n",
       "      <td>US</td>\n",
       "      <td>Middlebury College</td>\n",
       "      <td>United States</td>\n",
       "      <td>None</td>\n",
       "      <td>College</td>\n",
       "    </tr>\n",
       "    <tr>\n",
       "      <th>6</th>\n",
       "      <td>GB</td>\n",
       "      <td>Middlesbrough College</td>\n",
       "      <td>United Kingdom</td>\n",
       "      <td>None</td>\n",
       "      <td>College</td>\n",
       "    </tr>\n",
       "    <tr>\n",
       "      <th>7</th>\n",
       "      <td>GB</td>\n",
       "      <td>Middlesex University - London</td>\n",
       "      <td>United Kingdom</td>\n",
       "      <td>None</td>\n",
       "      <td>University</td>\n",
       "    </tr>\n",
       "    <tr>\n",
       "      <th>8</th>\n",
       "      <td>US</td>\n",
       "      <td>Middlesex County College</td>\n",
       "      <td>United States</td>\n",
       "      <td>None</td>\n",
       "      <td>College</td>\n",
       "    </tr>\n",
       "    <tr>\n",
       "      <th>9</th>\n",
       "      <td>US</td>\n",
       "      <td>Middlesex Community College</td>\n",
       "      <td>United States</td>\n",
       "      <td>None</td>\n",
       "      <td>College</td>\n",
       "    </tr>\n",
       "  </tbody>\n",
       "</table>\n",
       "</div>"
      ],
      "text/plain": [
       "  alpha_two_code                                name         country  \\\n",
       "0             TR    Middle East Technical University          Turkey   \n",
       "1             JO              Middle East University          Jordan   \n",
       "2             US   Middle Tennessee State University   United States   \n",
       "3             US        Middle Georgia State College   United States   \n",
       "4             KW  American University of Middle East          Kuwait   \n",
       "5             US                  Middlebury College   United States   \n",
       "6             GB               Middlesbrough College  United Kingdom   \n",
       "7             GB       Middlesex University - London  United Kingdom   \n",
       "8             US            Middlesex County College   United States   \n",
       "9             US         Middlesex Community College   United States   \n",
       "\n",
       "  state_province Institution_Type  \n",
       "0           None       University  \n",
       "1           None       University  \n",
       "2           None       University  \n",
       "3           None          College  \n",
       "4           None       University  \n",
       "5           None          College  \n",
       "6           None          College  \n",
       "7           None       University  \n",
       "8           None          College  \n",
       "9           None          College  "
      ]
     },
     "execution_count": 8,
     "metadata": {},
     "output_type": "execute_result"
    }
   ],
   "source": [
    "edu_est"
   ]
  },
  {
   "cell_type": "markdown",
   "metadata": {},
   "source": [
    "# Войдем в контейнер Airflow"
   ]
  },
  {
   "cell_type": "markdown",
   "metadata": {},
   "source": [
    "### docker exec -it airflow-webserver bash"
   ]
  },
  {
   "cell_type": "markdown",
   "metadata": {},
   "source": [
    "# Создадим переменные для Airflow"
   ]
  },
  {
   "cell_type": "markdown",
   "metadata": {},
   "source": [
    "#### airflow variables set POSTGRES_HOST 127.0.0.1\n",
    "#### airflow variables set POSTGRES_DB universities_db\n",
    "#### airflow variables set POSTGRES_USER ar4i\n",
    "#### airflow variables set POSTGRES_PASSWORD i17i71i11i77i\n",
    "#### airflow variables set LAST_SUCCESSFUL_LOAD \"2023-05-05 00:00:00\""
   ]
  },
  {
   "cell_type": "markdown",
   "metadata": {},
   "source": [
    "# РАБОТА С БД PG И НАСТРОЙКА DAG -ОВ"
   ]
  },
  {
   "cell_type": "code",
   "execution_count": 9,
   "metadata": {},
   "outputs": [],
   "source": [
    "# подключение к ПГ\n",
    "def load_data_to_postgres():\n",
    "    # \n",
    "    conn = psycopg2.connect(\n",
    "        host=Variable.get(\"POSTGRES_HOST\"),\n",
    "        database=Variable.get(\"POSTGRES_DB\"),\n",
    "        user=Variable.get(\"POSTGRES_USER\"),\n",
    "        password=Variable.get(\"POSTGRES_PASSWORD\")\n",
    "    )\n",
    "    cursor = conn.cursor()\n",
    "\n",
    "    # gолучаем дату последней успешной загрузки\n",
    "    ## проверка и фильтрация данных для инкрементальной загрузки на основе времени последней успешной загрузки\n",
    "    last_successful_load = Variable.get(\"LAST_SUCCESSFUL_LOAD\", default_var=None)\n",
    "    # блок проверяет, существует ли значение\n",
    "    if last_successful_load:\n",
    "        last_successful_load = datetime.strptime(last_successful_load, \"%Y-%m-%d %H:%M:%S\") ## преобразуем в формат датавремя\n",
    "        ## выбираем только те строки, у которых индекс больше времени последней успешной загрузки\n",
    "        edu_est = edu_est[edu_est.index > last_successful_load.timestamp()]\n",
    "\n",
    "    # Загрузка данных в PostgreSQL\n",
    "    for _, row in edu_est.iterrows(): # цикл выполняет итерацию по каждой строке\n",
    "        # затем вставляет данные из каждой строки в таблицу в бд ПГ\n",
    "        cursor.execute(\n",
    "            \"INSERT INTO universities (country, name, \\\"Institution_Type\\\") VALUES (%s, %s, %s)\",\n",
    "            (row['country'], row['name'], row['Institution_Type'])\n",
    "        )\n",
    "    conn.commit() # фиксируем изменения\n",
    "    cursor.close() # закрываем курсор - освобождаем ресурсы\n",
    "    conn.close() # закрываем соединение с бд\n",
    "\n",
    "    # Сохранение даты последней успешной загрузки\n",
    "    Variable.set(\"LAST_SUCCESSFUL_LOAD\", datetime.now().strftime(\"%Y-%m-%d %H:%M:%S\"))\n",
    "\n",
    "# DAG\n",
    "default_args = {\n",
    "    'owner': 'airflow',\n",
    "    'depends_on_past': False,\n",
    "    'start_date': datetime(2023, 5, 5),\n",
    "    'email': ['artem_analyze@mail.ru'],\n",
    "    'email_on_failure': False,\n",
    "    'email_on_retry': False,\n",
    "    'retries': 1,\n",
    "    'retry_delay': timedelta(minutes=5)\n",
    "}\n",
    "\n",
    "dag = DAG(\n",
    "    'university_data_load',\n",
    "    default_args=default_args,\n",
    "    description='Загрузка данных по университетам',\n",
    "    schedule_interval='0 3 * * *', # расписание DAG будет запускаться каждый день в 3 часа ночи\n",
    "    catchup=False # не запускаем пропущеные даги\n",
    ")\n",
    "\n",
    "# задачи для загрузки данных\n",
    "load_data_task = PythonOperator(\n",
    "    task_id='load_data_to_postgres',\n",
    "    python_callable=load_data_to_postgres,\n",
    "    dag=dag\n",
    ")"
   ]
  }
 ],
 "metadata": {
  "kernelspec": {
   "display_name": "Python 3",
   "language": "python",
   "name": "python3"
  },
  "language_info": {
   "codemirror_mode": {
    "name": "ipython",
    "version": 3
   },
   "file_extension": ".py",
   "mimetype": "text/x-python",
   "name": "python",
   "nbconvert_exporter": "python",
   "pygments_lexer": "ipython3",
   "version": "3.7.3"
  }
 },
 "nbformat": 4,
 "nbformat_minor": 4
}
