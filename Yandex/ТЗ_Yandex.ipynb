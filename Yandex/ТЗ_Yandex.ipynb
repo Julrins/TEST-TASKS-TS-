{
 "cells": [
  {
   "cell_type": "code",
   "execution_count": 1,
   "metadata": {},
   "outputs": [],
   "source": [
    "import pandas as pd\n",
    "import polars as pl\n",
    "import datetime\n",
    "import matplotlib.pyplot as plt\n",
    "import numpy as np"
   ]
  },
  {
   "cell_type": "code",
   "execution_count": 2,
   "metadata": {},
   "outputs": [],
   "source": [
    "spisok = [0, 1, 2, 3]"
   ]
  },
  {
   "cell_type": "code",
   "execution_count": 3,
   "metadata": {},
   "outputs": [
    {
     "data": {
      "text/plain": [
       "[3, 2, 1, 0]"
      ]
     },
     "execution_count": 3,
     "metadata": {},
     "output_type": "execute_result"
    }
   ],
   "source": [
    "spisok[::-1]"
   ]
  },
  {
   "cell_type": "code",
   "execution_count": 4,
   "metadata": {},
   "outputs": [],
   "source": [
    "df = pd.read_json('data.json', orient='records')"
   ]
  },
  {
   "cell_type": "code",
   "execution_count": 5,
   "metadata": {},
   "outputs": [],
   "source": [
    "#     query - текст запроса\n",
    "#     ts - timestamp запроса\n",
    "#     platform - платформа (touch - мобильный устройства, desktop - компьютеры)"
   ]
  },
  {
   "cell_type": "code",
   "execution_count": 6,
   "metadata": {},
   "outputs": [
    {
     "data": {
      "text/html": [
       "<div>\n",
       "<style scoped>\n",
       "    .dataframe tbody tr th:only-of-type {\n",
       "        vertical-align: middle;\n",
       "    }\n",
       "\n",
       "    .dataframe tbody tr th {\n",
       "        vertical-align: top;\n",
       "    }\n",
       "\n",
       "    .dataframe thead th {\n",
       "        text-align: right;\n",
       "    }\n",
       "</style>\n",
       "<table border=\"1\" class=\"dataframe\">\n",
       "  <thead>\n",
       "    <tr style=\"text-align: right;\">\n",
       "      <th></th>\n",
       "      <th>query</th>\n",
       "      <th>ts</th>\n",
       "      <th>platform</th>\n",
       "    </tr>\n",
       "  </thead>\n",
       "  <tbody>\n",
       "    <tr>\n",
       "      <th>0</th>\n",
       "      <td>порно фото</td>\n",
       "      <td>1631786697</td>\n",
       "      <td>touch</td>\n",
       "    </tr>\n",
       "    <tr>\n",
       "      <th>1</th>\n",
       "      <td>малевич картины</td>\n",
       "      <td>1631806465</td>\n",
       "      <td>desktop</td>\n",
       "    </tr>\n",
       "    <tr>\n",
       "      <th>2</th>\n",
       "      <td>Секс</td>\n",
       "      <td>1631781583</td>\n",
       "      <td>touch</td>\n",
       "    </tr>\n",
       "    <tr>\n",
       "      <th>3</th>\n",
       "      <td>с днём рождения лена</td>\n",
       "      <td>1631771563</td>\n",
       "      <td>touch</td>\n",
       "    </tr>\n",
       "    <tr>\n",
       "      <th>4</th>\n",
       "      <td>зверополис порно</td>\n",
       "      <td>1631787599</td>\n",
       "      <td>touch</td>\n",
       "    </tr>\n",
       "    <tr>\n",
       "      <th>...</th>\n",
       "      <td>...</td>\n",
       "      <td>...</td>\n",
       "      <td>...</td>\n",
       "    </tr>\n",
       "    <tr>\n",
       "      <th>1203819</th>\n",
       "      <td>бабочка</td>\n",
       "      <td>1631475653</td>\n",
       "      <td>touch</td>\n",
       "    </tr>\n",
       "    <tr>\n",
       "      <th>1203820</th>\n",
       "      <td>все республики россии</td>\n",
       "      <td>1631462934</td>\n",
       "      <td>touch</td>\n",
       "    </tr>\n",
       "    <tr>\n",
       "      <th>1203821</th>\n",
       "      <td>кухня в стиле лофт</td>\n",
       "      <td>1631432252</td>\n",
       "      <td>touch</td>\n",
       "    </tr>\n",
       "    <tr>\n",
       "      <th>1203822</th>\n",
       "      <td>топор</td>\n",
       "      <td>1631449347</td>\n",
       "      <td>desktop</td>\n",
       "    </tr>\n",
       "    <tr>\n",
       "      <th>1203823</th>\n",
       "      <td>аватарки для тик тока</td>\n",
       "      <td>1631457656</td>\n",
       "      <td>touch</td>\n",
       "    </tr>\n",
       "  </tbody>\n",
       "</table>\n",
       "<p>1203824 rows × 3 columns</p>\n",
       "</div>"
      ],
      "text/plain": [
       "                         query          ts platform\n",
       "0                   порно фото  1631786697    touch\n",
       "1              малевич картины  1631806465  desktop\n",
       "2                         Секс  1631781583    touch\n",
       "3         с днём рождения лена  1631771563    touch\n",
       "4             зверополис порно  1631787599    touch\n",
       "...                        ...         ...      ...\n",
       "1203819                бабочка  1631475653    touch\n",
       "1203820  все республики россии  1631462934    touch\n",
       "1203821     кухня в стиле лофт  1631432252    touch\n",
       "1203822                  топор  1631449347  desktop\n",
       "1203823  аватарки для тик тока  1631457656    touch\n",
       "\n",
       "[1203824 rows x 3 columns]"
      ]
     },
     "execution_count": 6,
     "metadata": {},
     "output_type": "execute_result"
    }
   ],
   "source": [
    "df"
   ]
  },
  {
   "cell_type": "code",
   "execution_count": 7,
   "metadata": {},
   "outputs": [
    {
     "data": {
      "text/plain": [
       "query       0\n",
       "ts          0\n",
       "platform    0\n",
       "dtype: int64"
      ]
     },
     "execution_count": 7,
     "metadata": {},
     "output_type": "execute_result"
    }
   ],
   "source": [
    "df.isna().sum()"
   ]
  },
  {
   "cell_type": "code",
   "execution_count": 8,
   "metadata": {},
   "outputs": [
    {
     "data": {
      "text/plain": [
       "query       object\n",
       "ts           int64\n",
       "platform    object\n",
       "dtype: object"
      ]
     },
     "execution_count": 8,
     "metadata": {},
     "output_type": "execute_result"
    }
   ],
   "source": [
    "df.dtypes"
   ]
  },
  {
   "cell_type": "code",
   "execution_count": 10,
   "metadata": {},
   "outputs": [],
   "source": [
    "df['ts'] = pd.to_datetime(df['ts'], unit='s')"
   ]
  },
  {
   "cell_type": "code",
   "execution_count": 11,
   "metadata": {},
   "outputs": [
    {
     "data": {
      "text/html": [
       "<div>\n",
       "<style scoped>\n",
       "    .dataframe tbody tr th:only-of-type {\n",
       "        vertical-align: middle;\n",
       "    }\n",
       "\n",
       "    .dataframe tbody tr th {\n",
       "        vertical-align: top;\n",
       "    }\n",
       "\n",
       "    .dataframe thead th {\n",
       "        text-align: right;\n",
       "    }\n",
       "</style>\n",
       "<table border=\"1\" class=\"dataframe\">\n",
       "  <thead>\n",
       "    <tr style=\"text-align: right;\">\n",
       "      <th></th>\n",
       "      <th>query</th>\n",
       "      <th>ts</th>\n",
       "      <th>platform</th>\n",
       "    </tr>\n",
       "  </thead>\n",
       "  <tbody>\n",
       "    <tr>\n",
       "      <th>0</th>\n",
       "      <td>порно фото</td>\n",
       "      <td>2021-09-16 10:04:57</td>\n",
       "      <td>touch</td>\n",
       "    </tr>\n",
       "    <tr>\n",
       "      <th>1</th>\n",
       "      <td>малевич картины</td>\n",
       "      <td>2021-09-16 15:34:25</td>\n",
       "      <td>desktop</td>\n",
       "    </tr>\n",
       "    <tr>\n",
       "      <th>2</th>\n",
       "      <td>Секс</td>\n",
       "      <td>2021-09-16 08:39:43</td>\n",
       "      <td>touch</td>\n",
       "    </tr>\n",
       "    <tr>\n",
       "      <th>3</th>\n",
       "      <td>с днём рождения лена</td>\n",
       "      <td>2021-09-16 05:52:43</td>\n",
       "      <td>touch</td>\n",
       "    </tr>\n",
       "    <tr>\n",
       "      <th>4</th>\n",
       "      <td>зверополис порно</td>\n",
       "      <td>2021-09-16 10:19:59</td>\n",
       "      <td>touch</td>\n",
       "    </tr>\n",
       "    <tr>\n",
       "      <th>...</th>\n",
       "      <td>...</td>\n",
       "      <td>...</td>\n",
       "      <td>...</td>\n",
       "    </tr>\n",
       "    <tr>\n",
       "      <th>1203819</th>\n",
       "      <td>бабочка</td>\n",
       "      <td>2021-09-12 19:40:53</td>\n",
       "      <td>touch</td>\n",
       "    </tr>\n",
       "    <tr>\n",
       "      <th>1203820</th>\n",
       "      <td>все республики россии</td>\n",
       "      <td>2021-09-12 16:08:54</td>\n",
       "      <td>touch</td>\n",
       "    </tr>\n",
       "    <tr>\n",
       "      <th>1203821</th>\n",
       "      <td>кухня в стиле лофт</td>\n",
       "      <td>2021-09-12 07:37:32</td>\n",
       "      <td>touch</td>\n",
       "    </tr>\n",
       "    <tr>\n",
       "      <th>1203822</th>\n",
       "      <td>топор</td>\n",
       "      <td>2021-09-12 12:22:27</td>\n",
       "      <td>desktop</td>\n",
       "    </tr>\n",
       "    <tr>\n",
       "      <th>1203823</th>\n",
       "      <td>аватарки для тик тока</td>\n",
       "      <td>2021-09-12 14:40:56</td>\n",
       "      <td>touch</td>\n",
       "    </tr>\n",
       "  </tbody>\n",
       "</table>\n",
       "<p>1203824 rows × 3 columns</p>\n",
       "</div>"
      ],
      "text/plain": [
       "                         query                  ts platform\n",
       "0                   порно фото 2021-09-16 10:04:57    touch\n",
       "1              малевич картины 2021-09-16 15:34:25  desktop\n",
       "2                         Секс 2021-09-16 08:39:43    touch\n",
       "3         с днём рождения лена 2021-09-16 05:52:43    touch\n",
       "4             зверополис порно 2021-09-16 10:19:59    touch\n",
       "...                        ...                 ...      ...\n",
       "1203819                бабочка 2021-09-12 19:40:53    touch\n",
       "1203820  все республики россии 2021-09-12 16:08:54    touch\n",
       "1203821     кухня в стиле лофт 2021-09-12 07:37:32    touch\n",
       "1203822                  топор 2021-09-12 12:22:27  desktop\n",
       "1203823  аватарки для тик тока 2021-09-12 14:40:56    touch\n",
       "\n",
       "[1203824 rows x 3 columns]"
      ]
     },
     "execution_count": 11,
     "metadata": {},
     "output_type": "execute_result"
    }
   ],
   "source": [
    "df"
   ]
  },
  {
   "cell_type": "code",
   "execution_count": 12,
   "metadata": {},
   "outputs": [],
   "source": [
    "# for i in df['query'][:1000]:\n",
    "#     print(i)"
   ]
  },
  {
   "cell_type": "code",
   "execution_count": 13,
   "metadata": {},
   "outputs": [
    {
     "data": {
      "text/html": [
       "<div>\n",
       "<style scoped>\n",
       "    .dataframe tbody tr th:only-of-type {\n",
       "        vertical-align: middle;\n",
       "    }\n",
       "\n",
       "    .dataframe tbody tr th {\n",
       "        vertical-align: top;\n",
       "    }\n",
       "\n",
       "    .dataframe thead th {\n",
       "        text-align: right;\n",
       "    }\n",
       "</style>\n",
       "<table border=\"1\" class=\"dataframe\">\n",
       "  <thead>\n",
       "    <tr style=\"text-align: right;\">\n",
       "      <th></th>\n",
       "      <th>ts</th>\n",
       "    </tr>\n",
       "  </thead>\n",
       "  <tbody>\n",
       "    <tr>\n",
       "      <th>min</th>\n",
       "      <td>2021-08-31 21:00:00</td>\n",
       "    </tr>\n",
       "    <tr>\n",
       "      <th>max</th>\n",
       "      <td>2021-09-21 20:59:59</td>\n",
       "    </tr>\n",
       "  </tbody>\n",
       "</table>\n",
       "</div>"
      ],
      "text/plain": [
       "                     ts\n",
       "min 2021-08-31 21:00:00\n",
       "max 2021-09-21 20:59:59"
      ]
     },
     "execution_count": 13,
     "metadata": {},
     "output_type": "execute_result"
    }
   ],
   "source": [
    "df[['ts']].agg(['min', 'max'])"
   ]
  },
  {
   "cell_type": "code",
   "execution_count": 14,
   "metadata": {},
   "outputs": [
    {
     "data": {
      "text/plain": [
       "<matplotlib.axes._subplots.AxesSubplot at 0x7f80bd7cd6d8>"
      ]
     },
     "execution_count": 14,
     "metadata": {},
     "output_type": "execute_result"
    },
    {
     "data": {
      "image/png": "[encoded data removed]",
      "text/plain": [
       "<Figure size 432x288 with 1 Axes>"
      ]
     },
     "metadata": {
      "needs_background": "light"
     },
     "output_type": "display_data"
    }
   ],
   "source": [
    "df['platform'].hist()"
   ]
  },
  {
   "cell_type": "code",
   "execution_count": 15,
   "metadata": {},
   "outputs": [
    {
     "data": {
      "text/plain": [
       "platform  query                \n",
       "desktop   календарь 2021           2804\n",
       "          таблица менделеева       2631\n",
       "          картинки                 1647\n",
       "          порно                    1342\n",
       "          английский алфавит       1293\n",
       "                                   ... \n",
       "touch     шарики пнг                  1\n",
       "          штриховка                   1\n",
       "          экран                       1\n",
       "          эльза раскраска             1\n",
       "          ягодка малинка хабиба       1\n",
       "Name: query, Length: 49500, dtype: int64"
      ]
     },
     "execution_count": 15,
     "metadata": {},
     "output_type": "execute_result"
    }
   ],
   "source": [
    "df.groupby('platform')['query'].value_counts()"
   ]
  },
  {
   "cell_type": "code",
   "execution_count": 16,
   "metadata": {},
   "outputs": [
    {
     "data": {
      "text/plain": [
       "touch      0.658118\n",
       "desktop    0.341882\n",
       "Name: platform, dtype: float64"
      ]
     },
     "execution_count": 16,
     "metadata": {},
     "output_type": "execute_result"
    }
   ],
   "source": [
    "df['platform'].value_counts(normalize = True)"
   ]
  },
  {
   "cell_type": "code",
   "execution_count": 17,
   "metadata": {},
   "outputs": [
    {
     "data": {
      "text/plain": [
       "<matplotlib.axes._subplots.AxesSubplot at 0x7f80bc8772e8>"
      ]
     },
     "execution_count": 17,
     "metadata": {},
     "output_type": "execute_result"
    },
    {
     "data": {
      "image/png": "[encoded data removed]",
      "text/plain": [
       "<Figure size 432x288 with 1 Axes>"
      ]
     },
     "metadata": {
      "needs_background": "light"
     },
     "output_type": "display_data"
    }
   ],
   "source": [
    "df['platform'].value_counts(normalize = True).hist()"
   ]
  },
  {
   "cell_type": "code",
   "execution_count": 18,
   "metadata": {},
   "outputs": [
    {
     "data": {
      "text/plain": [
       "query\n",
       "календарь 2021                     2804\n",
       "таблица менделеева                 2631\n",
       "картинки                           1647\n",
       "порно                              1342\n",
       "английский алфавит                 1293\n",
       "обои на рабочий стол               1143\n",
       "Одноклассники (социальная сеть)    1116\n",
       "секс                                895\n",
       "таблица квадратов                   877\n",
       "алфавит                             874\n",
       "Name: query, dtype: int64"
      ]
     },
     "execution_count": 18,
     "metadata": {},
     "output_type": "execute_result"
    }
   ],
   "source": [
    "df.loc[(df['platform'] == 'desktop')].groupby('query')['query'].count().sort_values(ascending = False).head(10)"
   ]
  },
  {
   "cell_type": "code",
   "execution_count": 19,
   "metadata": {},
   "outputs": [
    {
     "data": {
      "text/plain": [
       "порно                      7740\n",
       "секс                       6348\n",
       "с днём рождения женщине    4903\n",
       "с днём рождения            3967\n",
       "с днём рождения мужчине    3623\n",
       "хентай                     3157\n",
       "с днем рождения            3005\n",
       "xxx                        2429\n",
       "Порно                      2330\n",
       "календарь 2021             2237\n",
       "Name: query, dtype: int64"
      ]
     },
     "execution_count": 19,
     "metadata": {},
     "output_type": "execute_result"
    }
   ],
   "source": [
    "top_queries_touch = df[df['platform'] == 'touch']['query'].value_counts().head(10)\n",
    "top_queries_touch"
   ]
  },
  {
   "cell_type": "code",
   "execution_count": 20,
   "metadata": {},
   "outputs": [
    {
     "data": {
      "text/plain": [
       "query\n",
       "порно                      7740\n",
       "секс                       6348\n",
       "с днём рождения женщине    4903\n",
       "с днём рождения            3967\n",
       "с днём рождения мужчине    3623\n",
       "хентай                     3157\n",
       "с днем рождения            3005\n",
       "xxx                        2429\n",
       "Порно                      2330\n",
       "календарь 2021             2237\n",
       "Name: query, dtype: int64"
      ]
     },
     "execution_count": 20,
     "metadata": {},
     "output_type": "execute_result"
    }
   ],
   "source": [
    "df.loc[(df['platform'] == 'touch')].groupby('query')['query'].count().sort_values(ascending = False).head(10)"
   ]
  },
  {
   "cell_type": "code",
   "execution_count": 21,
   "metadata": {},
   "outputs": [
    {
     "data": {
      "text/html": [
       "<div>\n",
       "<style scoped>\n",
       "    .dataframe tbody tr th:only-of-type {\n",
       "        vertical-align: middle;\n",
       "    }\n",
       "\n",
       "    .dataframe tbody tr th {\n",
       "        vertical-align: top;\n",
       "    }\n",
       "\n",
       "    .dataframe thead th {\n",
       "        text-align: right;\n",
       "    }\n",
       "</style>\n",
       "<table border=\"1\" class=\"dataframe\">\n",
       "  <thead>\n",
       "    <tr style=\"text-align: right;\">\n",
       "      <th></th>\n",
       "      <th>query</th>\n",
       "      <th>ts</th>\n",
       "      <th>platform</th>\n",
       "    </tr>\n",
       "  </thead>\n",
       "  <tbody>\n",
       "    <tr>\n",
       "      <th>0</th>\n",
       "      <td>порно фото</td>\n",
       "      <td>2021-09-16 10:04:57</td>\n",
       "      <td>touch</td>\n",
       "    </tr>\n",
       "    <tr>\n",
       "      <th>1</th>\n",
       "      <td>малевич картины</td>\n",
       "      <td>2021-09-16 15:34:25</td>\n",
       "      <td>desktop</td>\n",
       "    </tr>\n",
       "    <tr>\n",
       "      <th>2</th>\n",
       "      <td>Секс</td>\n",
       "      <td>2021-09-16 08:39:43</td>\n",
       "      <td>touch</td>\n",
       "    </tr>\n",
       "    <tr>\n",
       "      <th>3</th>\n",
       "      <td>с днём рождения лена</td>\n",
       "      <td>2021-09-16 05:52:43</td>\n",
       "      <td>touch</td>\n",
       "    </tr>\n",
       "    <tr>\n",
       "      <th>4</th>\n",
       "      <td>зверополис порно</td>\n",
       "      <td>2021-09-16 10:19:59</td>\n",
       "      <td>touch</td>\n",
       "    </tr>\n",
       "    <tr>\n",
       "      <th>...</th>\n",
       "      <td>...</td>\n",
       "      <td>...</td>\n",
       "      <td>...</td>\n",
       "    </tr>\n",
       "    <tr>\n",
       "      <th>1203819</th>\n",
       "      <td>бабочка</td>\n",
       "      <td>2021-09-12 19:40:53</td>\n",
       "      <td>touch</td>\n",
       "    </tr>\n",
       "    <tr>\n",
       "      <th>1203820</th>\n",
       "      <td>все республики россии</td>\n",
       "      <td>2021-09-12 16:08:54</td>\n",
       "      <td>touch</td>\n",
       "    </tr>\n",
       "    <tr>\n",
       "      <th>1203821</th>\n",
       "      <td>кухня в стиле лофт</td>\n",
       "      <td>2021-09-12 07:37:32</td>\n",
       "      <td>touch</td>\n",
       "    </tr>\n",
       "    <tr>\n",
       "      <th>1203822</th>\n",
       "      <td>топор</td>\n",
       "      <td>2021-09-12 12:22:27</td>\n",
       "      <td>desktop</td>\n",
       "    </tr>\n",
       "    <tr>\n",
       "      <th>1203823</th>\n",
       "      <td>аватарки для тик тока</td>\n",
       "      <td>2021-09-12 14:40:56</td>\n",
       "      <td>touch</td>\n",
       "    </tr>\n",
       "  </tbody>\n",
       "</table>\n",
       "<p>1203824 rows × 3 columns</p>\n",
       "</div>"
      ],
      "text/plain": [
       "                         query                  ts platform\n",
       "0                   порно фото 2021-09-16 10:04:57    touch\n",
       "1              малевич картины 2021-09-16 15:34:25  desktop\n",
       "2                         Секс 2021-09-16 08:39:43    touch\n",
       "3         с днём рождения лена 2021-09-16 05:52:43    touch\n",
       "4             зверополис порно 2021-09-16 10:19:59    touch\n",
       "...                        ...                 ...      ...\n",
       "1203819                бабочка 2021-09-12 19:40:53    touch\n",
       "1203820  все республики россии 2021-09-12 16:08:54    touch\n",
       "1203821     кухня в стиле лофт 2021-09-12 07:37:32    touch\n",
       "1203822                  топор 2021-09-12 12:22:27  desktop\n",
       "1203823  аватарки для тик тока 2021-09-12 14:40:56    touch\n",
       "\n",
       "[1203824 rows x 3 columns]"
      ]
     },
     "execution_count": 21,
     "metadata": {},
     "output_type": "execute_result"
    }
   ],
   "source": [
    "df"
   ]
  },
  {
   "cell_type": "code",
   "execution_count": 22,
   "metadata": {},
   "outputs": [],
   "source": [
    "df2 = df.copy(deep = True)"
   ]
  },
  {
   "cell_type": "code",
   "execution_count": 23,
   "metadata": {},
   "outputs": [],
   "source": [
    "df2['ts'] = df2['ts'].apply(lambda x: x.date())"
   ]
  },
  {
   "cell_type": "code",
   "execution_count": 24,
   "metadata": {},
   "outputs": [
    {
     "data": {
      "text/html": [
       "<div>\n",
       "<style scoped>\n",
       "    .dataframe tbody tr th:only-of-type {\n",
       "        vertical-align: middle;\n",
       "    }\n",
       "\n",
       "    .dataframe tbody tr th {\n",
       "        vertical-align: top;\n",
       "    }\n",
       "\n",
       "    .dataframe thead th {\n",
       "        text-align: right;\n",
       "    }\n",
       "</style>\n",
       "<table border=\"1\" class=\"dataframe\">\n",
       "  <thead>\n",
       "    <tr style=\"text-align: right;\">\n",
       "      <th></th>\n",
       "      <th>query</th>\n",
       "      <th>ts</th>\n",
       "      <th>platform</th>\n",
       "    </tr>\n",
       "  </thead>\n",
       "  <tbody>\n",
       "    <tr>\n",
       "      <th>0</th>\n",
       "      <td>порно фото</td>\n",
       "      <td>2021-09-16</td>\n",
       "      <td>touch</td>\n",
       "    </tr>\n",
       "    <tr>\n",
       "      <th>1</th>\n",
       "      <td>малевич картины</td>\n",
       "      <td>2021-09-16</td>\n",
       "      <td>desktop</td>\n",
       "    </tr>\n",
       "    <tr>\n",
       "      <th>2</th>\n",
       "      <td>Секс</td>\n",
       "      <td>2021-09-16</td>\n",
       "      <td>touch</td>\n",
       "    </tr>\n",
       "    <tr>\n",
       "      <th>3</th>\n",
       "      <td>с днём рождения лена</td>\n",
       "      <td>2021-09-16</td>\n",
       "      <td>touch</td>\n",
       "    </tr>\n",
       "    <tr>\n",
       "      <th>4</th>\n",
       "      <td>зверополис порно</td>\n",
       "      <td>2021-09-16</td>\n",
       "      <td>touch</td>\n",
       "    </tr>\n",
       "    <tr>\n",
       "      <th>...</th>\n",
       "      <td>...</td>\n",
       "      <td>...</td>\n",
       "      <td>...</td>\n",
       "    </tr>\n",
       "    <tr>\n",
       "      <th>1203819</th>\n",
       "      <td>бабочка</td>\n",
       "      <td>2021-09-12</td>\n",
       "      <td>touch</td>\n",
       "    </tr>\n",
       "    <tr>\n",
       "      <th>1203820</th>\n",
       "      <td>все республики россии</td>\n",
       "      <td>2021-09-12</td>\n",
       "      <td>touch</td>\n",
       "    </tr>\n",
       "    <tr>\n",
       "      <th>1203821</th>\n",
       "      <td>кухня в стиле лофт</td>\n",
       "      <td>2021-09-12</td>\n",
       "      <td>touch</td>\n",
       "    </tr>\n",
       "    <tr>\n",
       "      <th>1203822</th>\n",
       "      <td>топор</td>\n",
       "      <td>2021-09-12</td>\n",
       "      <td>desktop</td>\n",
       "    </tr>\n",
       "    <tr>\n",
       "      <th>1203823</th>\n",
       "      <td>аватарки для тик тока</td>\n",
       "      <td>2021-09-12</td>\n",
       "      <td>touch</td>\n",
       "    </tr>\n",
       "  </tbody>\n",
       "</table>\n",
       "<p>1203824 rows × 3 columns</p>\n",
       "</div>"
      ],
      "text/plain": [
       "                         query          ts platform\n",
       "0                   порно фото  2021-09-16    touch\n",
       "1              малевич картины  2021-09-16  desktop\n",
       "2                         Секс  2021-09-16    touch\n",
       "3         с днём рождения лена  2021-09-16    touch\n",
       "4             зверополис порно  2021-09-16    touch\n",
       "...                        ...         ...      ...\n",
       "1203819                бабочка  2021-09-12    touch\n",
       "1203820  все республики россии  2021-09-12    touch\n",
       "1203821     кухня в стиле лофт  2021-09-12    touch\n",
       "1203822                  топор  2021-09-12  desktop\n",
       "1203823  аватарки для тик тока  2021-09-12    touch\n",
       "\n",
       "[1203824 rows x 3 columns]"
      ]
     },
     "execution_count": 24,
     "metadata": {},
     "output_type": "execute_result"
    }
   ],
   "source": [
    "df2"
   ]
  },
  {
   "cell_type": "code",
   "execution_count": 25,
   "metadata": {},
   "outputs": [
    {
     "data": {
      "text/plain": [
       "ts\n",
       "2021-09-01    64723\n",
       "2021-09-21    64308\n",
       "2021-09-20    63076\n",
       "2021-09-08    61477\n",
       "2021-09-13    60527\n",
       "2021-09-14    60237\n",
       "2021-09-15    59807\n",
       "2021-09-09    59562\n",
       "2021-09-16    58649\n",
       "2021-09-07    57449\n",
       "2021-09-19    56978\n",
       "2021-09-17    56939\n",
       "2021-09-06    56747\n",
       "2021-09-12    56219\n",
       "2021-09-03    53718\n",
       "2021-09-10    53416\n",
       "2021-09-05    53263\n",
       "2021-09-02    52980\n",
       "2021-09-18    52083\n",
       "2021-09-11    50298\n",
       "2021-09-04    48368\n",
       "2021-08-31     3000\n",
       "Name: query, dtype: int64"
      ]
     },
     "execution_count": 25,
     "metadata": {},
     "output_type": "execute_result"
    }
   ],
   "source": [
    "df2.groupby('ts')['query'].count().sort_values(ascending = False)"
   ]
  },
  {
   "cell_type": "code",
   "execution_count": 26,
   "metadata": {},
   "outputs": [
    {
     "data": {
      "image/png": "[encoded data removed]",
      "text/plain": [
       "<Figure size 432x288 with 1 Axes>"
      ]
     },
     "metadata": {
      "needs_background": "light"
     },
     "output_type": "display_data"
    }
   ],
   "source": [
    "# Группировка запросов по времени\n",
    "grouped_data = df2.groupby(['ts', 'platform']).size().unstack()\n",
    "\n",
    "# Построение графика\n",
    "grouped_data.plot(kind='bar', stacked=True)\n",
    "plt.xlabel('Дата')\n",
    "plt.ylabel('Количество запросов')\n",
    "plt.title('Распределение запросов по времени и платформе')\n",
    "plt.legend(title='Платформа')\n",
    "plt.show()"
   ]
  },
  {
   "cell_type": "code",
   "execution_count": 27,
   "metadata": {},
   "outputs": [
    {
     "data": {
      "text/plain": [
       "query\n",
       "1 сентября                   201\n",
       "с 1 сентября                 175\n",
       "календарь 2021               172\n",
       "1 сентября картинки          167\n",
       "с днем знаний                105\n",
       "День знаний                  103\n",
       "картинки                      70\n",
       "поздравление с 1 сентября     62\n",
       "1 сентября день знаний        58\n",
       "таблица умножения             57\n",
       "Name: query, dtype: int64"
      ]
     },
     "execution_count": 27,
     "metadata": {},
     "output_type": "execute_result"
    }
   ],
   "source": [
    "df2.loc[(df2['platform'] == 'desktop') & (df2['ts'].astype(str) == '2021-09-01')].groupby('query')['query'].count().sort_values(ascending = False).head(10)"
   ]
  },
  {
   "cell_type": "code",
   "execution_count": 28,
   "metadata": {},
   "outputs": [],
   "source": [
    "top_words_touch = df[df['platform'] == 'touch']['query'].str.split().explode().value_counts().head(5)\n",
    "top_words_desktop = df[df['platform'] == 'desktop']['query'].str.split().explode().value_counts().head(5)"
   ]
  },
  {
   "cell_type": "code",
   "execution_count": 29,
   "metadata": {},
   "outputs": [
    {
     "data": {
      "text/plain": [
       "на           15877\n",
       "с            13831\n",
       "для          13018\n",
       "календарь     9789\n",
       "2021          9441\n",
       "Name: query, dtype: int64"
      ]
     },
     "execution_count": 29,
     "metadata": {},
     "output_type": "execute_result"
    }
   ],
   "source": [
    "top_words_desktop"
   ]
  }
 ],
 "metadata": {
  "kernelspec": {
   "display_name": "Python 3",
   "language": "python",
   "name": "python3"
  },
  "language_info": {
   "codemirror_mode": {
    "name": "ipython",
    "version": 3
   },
   "file_extension": ".py",
   "mimetype": "text/x-python",
   "name": "python",
   "nbconvert_exporter": "python",
   "pygments_lexer": "ipython3",
   "version": "3.7.3"
  }
 },
 "nbformat": 4,
 "nbformat_minor": 4
}
